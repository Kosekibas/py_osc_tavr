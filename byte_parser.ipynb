{
 "metadata": {
  "language_info": {
   "codemirror_mode": {
    "name": "ipython",
    "version": 3
   },
   "file_extension": ".py",
   "mimetype": "text/x-python",
   "name": "python",
   "nbconvert_exporter": "python",
   "pygments_lexer": "ipython3",
   "version": "3.9.1-final"
  },
  "orig_nbformat": 2,
  "kernelspec": {
   "name": "python3",
   "display_name": "Python 3.9.1 64-bit",
   "metadata": {
    "interpreter": {
     "hash": "63fd5069d213b44bf678585dea6b12cceca9941eaf7f819626cde1f2670de90d"
    }
   }
  }
 },
 "nbformat": 4,
 "nbformat_minor": 2,
 "cells": [
  {
   "cell_type": "code",
   "execution_count": 2,
   "metadata": {},
   "outputs": [
    {
     "output_type": "error",
     "ename": "IndexError",
     "evalue": "array assignment index out of range",
     "traceback": [
      "\u001b[1;31m---------------------------------------------------------------------------\u001b[0m",
      "\u001b[1;31mIndexError\u001b[0m                                Traceback (most recent call last)",
      "\u001b[1;32m<ipython-input-2-c15b49c0b269>\u001b[0m in \u001b[0;36m<module>\u001b[1;34m\u001b[0m\n\u001b[0;32m      4\u001b[0m \u001b[0mm\u001b[0m\u001b[1;33m=\u001b[0m\u001b[1;36m10\u001b[0m\u001b[1;33m\u001b[0m\u001b[1;33m\u001b[0m\u001b[0m\n\u001b[0;32m      5\u001b[0m \u001b[1;32mfor\u001b[0m \u001b[0mnn\u001b[0m \u001b[1;32min\u001b[0m \u001b[0mrange\u001b[0m\u001b[1;33m(\u001b[0m\u001b[0mn\u001b[0m\u001b[1;33m)\u001b[0m\u001b[1;33m:\u001b[0m\u001b[1;33m\u001b[0m\u001b[1;33m\u001b[0m\u001b[0m\n\u001b[1;32m----> 6\u001b[1;33m     \u001b[0mdata\u001b[0m\u001b[1;33m[\u001b[0m\u001b[0mnn\u001b[0m\u001b[1;33m]\u001b[0m\u001b[1;33m=\u001b[0m\u001b[0mnn\u001b[0m\u001b[1;33m\u001b[0m\u001b[1;33m\u001b[0m\u001b[0m\n\u001b[0m\u001b[0;32m      7\u001b[0m \u001b[0mprint\u001b[0m \u001b[1;33m(\u001b[0m\u001b[0mdata\u001b[0m\u001b[1;33m)\u001b[0m\u001b[1;33m\u001b[0m\u001b[1;33m\u001b[0m\u001b[0m\n",
      "\u001b[1;31mIndexError\u001b[0m: array assignment index out of range"
     ]
    }
   ],
   "source": [
    "from array import *\n",
    "data=array('i')\n",
    "n=5\n",
    "m=10\n",
    "for nn in range(n):\n",
    "    data[nn]=nn\n",
    "print (data)"
   ]
  },
  {
   "cell_type": "code",
   "execution_count": 27,
   "metadata": {},
   "outputs": [
    {
     "output_type": "stream",
     "name": "stdout",
     "text": [
      " -21 = [0]\n  21 = [0, 1]\n 128 = [0]\n 255 = [0, 1]\n 256 = [0]\n-256 = [0]\n"
     ]
    }
   ],
   "source": [
    "import math\n",
    "\n",
    "def bits(n):\n",
    "    # The number of bits we need to represent the number\n",
    "   # num_bits = max(8, int(math.log(abs(n), 2)) + 1)\n",
    "    # The bit representation of the number\n",
    "    bits = [ (n >> 2) & 1] #for i in range(1) ]\n",
    "    bits.reverse()\n",
    "    # Do we need a leading zero?\n",
    "    if n < 0 or bits[0] == 0:\n",
    "        return bits\n",
    "    return [0] + bits\n",
    "\n",
    "# Examples\n",
    "for n in (-0x15, 0x15, 128, 255, 256, -256):\n",
    "    print(\"{: 4} = {}\".format(n, bits(n)))"
   ]
  },
  {
   "cell_type": "code",
   "execution_count": 32,
   "metadata": {},
   "outputs": [
    {
     "output_type": "stream",
     "name": "stdout",
     "text": [
      "0\n0\n0\n0\n0\n0\n0\n0\n"
     ]
    }
   ],
   "source": [
    "tre=0\n",
    "bit0= (tre >> 0) & 1 #for i in range(1) ]\n",
    "bit1= (tre >> 1) & 1 #for i in range(1) ]\n",
    "bit2= (tre >> 2) & 1 #for i in range(1) ]\n",
    "bit3= (tre >> 3) & 1 #for i in range(1) ]\n",
    "bit4= (tre >> 4) & 1 #for i in range(1) ]\n",
    "bit5= (tre >> 5) & 1 #for i in range(1) ]\n",
    "bit6= (tre >> 6) & 1 #for i in range(1) ]\n",
    "bit7= (tre >> 7) & 1 #for i in range(1) ]\n",
    "print(bit0)\n",
    "print(bit1)\n",
    "print(bit2)\n",
    "print(bit3)\n",
    "print(bit4)\n",
    "print(bit5)\n",
    "print(bit6)\n",
    "print(bit7)"
   ]
  },
  {
   "cell_type": "code",
   "execution_count": null,
   "metadata": {},
   "outputs": [],
   "source": []
  }
 ]
}