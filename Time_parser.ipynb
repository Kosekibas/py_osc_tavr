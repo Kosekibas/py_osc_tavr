{
 "metadata": {
  "language_info": {
   "codemirror_mode": {
    "name": "ipython",
    "version": 3
   },
   "file_extension": ".py",
   "mimetype": "text/x-python",
   "name": "python",
   "nbconvert_exporter": "python",
   "pygments_lexer": "ipython3",
   "version": "3.8.1-final"
  },
  "orig_nbformat": 2,
  "kernelspec": {
   "name": "python3",
   "display_name": "Python 3.8.1 32-bit",
   "metadata": {
    "interpreter": {
     "hash": "af261a72dad0c6ad89e7f6dbd8e5dba968bb39d787dbf98fb182e325f08d3c44"
    }
   }
  }
 },
 "nbformat": 4,
 "nbformat_minor": 2,
 "cells": [
  {
   "cell_type": "code",
   "execution_count": 15,
   "metadata": {},
   "outputs": [
    {
     "output_type": "error",
     "ename": "SyntaxError",
     "evalue": "invalid syntax (<ipython-input-15-b2a47a4d61f0>, line 4)",
     "traceback": [
      "\u001b[1;36m  File \u001b[1;32m\"<ipython-input-15-b2a47a4d61f0>\"\u001b[1;36m, line \u001b[1;32m4\u001b[0m\n\u001b[1;33m    struct logMessage{\u001b[0m\n\u001b[1;37m           ^\u001b[0m\n\u001b[1;31mSyntaxError\u001b[0m\u001b[1;31m:\u001b[0m invalid syntax\n"
     ]
    }
   ],
   "source": []
  },
  {
   "cell_type": "code",
   "execution_count": 27,
   "metadata": {},
   "outputs": [
    {
     "output_type": "stream",
     "name": "stdout",
     "text": [
      " -21 = [0]\n  21 = [0, 1]\n 128 = [0]\n 255 = [0, 1]\n 256 = [0]\n-256 = [0]\n"
     ]
    }
   ],
   "source": [
    "import math\n",
    "\n",
    "def bits(n):\n",
    "    # The number of bits we need to represent the number\n",
    "   # num_bits = max(8, int(math.log(abs(n), 2)) + 1)\n",
    "    # The bit representation of the number\n",
    "    bits = [ (n >> 2) & 1] #for i in range(1) ]\n",
    "    bits.reverse()\n",
    "    # Do we need a leading zero?\n",
    "    if n < 0 or bits[0] == 0:\n",
    "        return bits\n",
    "    return [0] + bits\n",
    "\n",
    "# Examples\n",
    "for n in (-0x15, 0x15, 128, 255, 256, -256):\n",
    "    print(\"{: 4} = {}\".format(n, bits(n)))"
   ]
  },
  {
   "cell_type": "code",
   "execution_count": 32,
   "metadata": {},
   "outputs": [
    {
     "output_type": "stream",
     "name": "stdout",
     "text": [
      "0\n0\n0\n0\n0\n0\n0\n0\n"
     ]
    }
   ],
   "source": [
    "tre=0\n",
    "bit0= (tre >> 0) & 1 #for i in range(1) ]\n",
    "bit1= (tre >> 1) & 1 #for i in range(1) ]\n",
    "bit2= (tre >> 2) & 1 #for i in range(1) ]\n",
    "bit3= (tre >> 3) & 1 #for i in range(1) ]\n",
    "bit4= (tre >> 4) & 1 #for i in range(1) ]\n",
    "bit5= (tre >> 5) & 1 #for i in range(1) ]\n",
    "bit6= (tre >> 6) & 1 #for i in range(1) ]\n",
    "bit7= (tre >> 7) & 1 #for i in range(1) ]\n",
    "print(bit0)\n",
    "print(bit1)\n",
    "print(bit2)\n",
    "print(bit3)\n",
    "print(bit4)\n",
    "print(bit5)\n",
    "print(bit6)\n",
    "print(bit7)"
   ]
  },
  {
   "cell_type": "code",
   "execution_count": 15,
   "metadata": {},
   "outputs": [
    {
     "output_type": "stream",
     "name": "stdout",
     "text": [
      "312854400\ntime.struct_time(tm_year=2010, tm_mon=8, tm_mday=29, tm_hour=10, tm_min=33, tm_sec=43, tm_wday=6, tm_yday=241, tm_isdst=0)\ntime.struct_time(tm_year=2020, tm_mon=7, tm_mday=28, tm_hour=10, tm_min=33, tm_sec=43, tm_wday=1, tm_yday=210, tm_isdst=0)\ntime.struct_time(tm_year=2020, tm_mon=7, tm_mday=28, tm_hour=10, tm_min=33, tm_sec=43, tm_wday=1, tm_yday=210, tm_isdst=0)\n"
     ]
    }
   ],
   "source": [
    "  import  time\n",
    "#a=1283625005\n",
    "a=1283078023\n",
    "b=315360000\n",
    "d=864000\n",
    "e=1641600\n",
    "c=a+b-d-e\n",
    "delta_sec=b-d-e\n",
    "print(delta_sec)\n",
    "print (time.gmtime(a))\n",
    "print (time.gmtime(c))\n",
    "print (time.gmtime(a+delta_sec))"
   ]
  },
  {
   "cell_type": "code",
   "execution_count": null,
   "metadata": {},
   "outputs": [],
   "source": []
  }
 ]
}